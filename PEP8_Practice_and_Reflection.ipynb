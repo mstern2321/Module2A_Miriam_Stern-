{
  "cells": [
    {
      "cell_type": "markdown",
      "id": "a1bf34cd",
      "metadata": {
        "id": "a1bf34cd"
      },
      "source": [
        "\n",
        "# [PEP 8](https://peps.python.org/pep-0008/#programming-recommendations) Style: Practice & Reflection (Loops • Decisions • Functions)\n",
        "\n",
        "**Name:** Miriam Stern  \n",
        "**Course / Section:** Intro to Programming  \n",
        "**Date:** 2025-10-06\n",
        "\n",
        "**Learning goals**\n",
        "- Apply core [**PEP 8**](https://peps.python.org/pep-0008/#programming-recommendations) conventions to real code you write.\n",
        "- Practice writing **loops** and **decision structures** in a clean, readable style.\n",
        "- Use **functions** with clear names, docstrings, and (optional) type hints.\n",
        "- Reflect on *why* style matters and how it improves readability and collaboration.\n",
        "\n",
        "> ⚠️ **Honor Code:** Write your own explanations. You may discuss high-level ideas, but do not copy another student's text.\n"
      ]
    },
    {
      "cell_type": "markdown",
      "id": "c042d5df",
      "metadata": {
        "id": "c042d5df"
      },
      "source": [
        "\n",
        "## Part 0 — Reading Plan (15–20 min)\n",
        "\n",
        "[PEP 8](https://peps.python.org/pep-0008/#programming-recommendations) is the programatic style convention for coding in Python 3.\n",
        "It shows you exactly how to indent, how to skip lines between functions and code blocks, how to name variables, etc.\n",
        "\n",
        "NOTE : every language has their own programming conventions, PEP 8 is specific to Python 3\n",
        "\n",
        "In this assignment,  would like you to skim **the whole PEP 8** to see its scope, but **focus carefully** on these sections for today:\n",
        "1. **Code lay-out / Indentation**\n",
        "2. **Maximum line length** (and when/why to break lines)\n",
        "3. **Blank lines**\n",
        "4. **Imports** (high level awareness only)\n",
        "5. **Whitespace in expressions and statements** (e.g., around `=`, `+`, `,`)\n",
        "6. **Naming Conventions** (variables, functions) — avoid single letters unless obvious\n",
        "7. **Comments & Docstrings** (write what/why, not obvious how)\n",
        "8. **Programming Recommendations** (truthiness, `if cond is None`, etc.)\n",
        "\n",
        "> Suggested links (search \"PEP 8\" if needed): Python's official PEP 8, plus the \"pep8.org\" companion site.\n"
      ]
    },
    {
      "cell_type": "markdown",
      "id": "33067ffb",
      "metadata": {
        "id": "33067ffb"
      },
      "source": [
        "\n",
        "## Part 1 — Short Reflection (8–10 sentences total)\n",
        "\n",
        "Answer in **complete sentences** in the cell below.\n",
        "\n",
        "1. Which **three** PEP 8 rules will most improve your code *right now* and **why**?  \n",
        "2. Show a **small code snippet** (5–8 lines) you wrote previously and explain **two** changes you would make to align it with PEP 8.  \n",
        "3. When is it **reasonable to break PEP 8**, and how would you document that decision for teammates?  \n",
        "4. What PEP 8 rule did you **disagree with or find surprising**, and why?\n",
        "\n",
        "> Tip: You can insert code fences in Markdown using triple backticks.\n"
      ]
    },
    {
      "cell_type": "markdown",
      "id": "f4627a58",
      "metadata": {
        "id": "f4627a58"
      },
      "source": [
        "\n",
        "_Your reflection goes here._\n",
        "1. A. Consistent indentation - My code used to get multiple synax errors due to inconsistent spacing now that I learnt the PEP 8 rules I will be sure to indent with 4 spaces on each level.\n",
        "  B. I never knew that there was a max number of characters per a line now that I learnt that I will be careful to break up my lines appropriately so it is easier to read on a small screen.\n",
        "  C. I always wondered where the correct place to implement docstrings is. PEP 8 says that docstrings are supposed to go after the def line. This rule will definetly make my code easier to follow as you will be able to understand the purpose of my functions immediately.\n",
        "2. I put the code in a code box.\n",
        "   A. I put the docstring in the correct place after the def line and put \"\"\" on a separate line.\n",
        "   B. I spaced the code correctly with 4 spaces per level.\n",
        "\n",
        "3. Since PEP 8 are just style guidelines to make your code clearer I think it would be reasonable to break it when following PEP 8 makes it more difficult for the user to understand. For Example, when you have a long line of code sometimes breaking it into 2 lines would make it less readable so I would leave it long and let my teammates know by commenting above the line and explain that breaking the rule makes my code more functional.\n",
        "4. I disagree with the strict rules about white space because I feel that it would be clearer if there was more white space and it wasn't so cramped together."
      ]
    },
    {
      "cell_type": "code",
      "source": [
        "\"\"\"goal: create a program that converts miles to kilometers\n",
        "1. call my function miles_to_kilometers\n",
        "2. in function : miles_to_kilometers :\n",
        "    A. ask my user \"miles to convert\", save as miles\n",
        "    B. convert miles to float, save as miles\n",
        "    C. multiply miles by kil(1.60934), store this value\n",
        "    D. tell my user what the conversion rate is\"\"\"\n",
        "KIL_CONV = 1.60935\n",
        "\n",
        "\n",
        "def miles_to_kilometers():\n",
        "  question = \"how many miles?\"\n",
        "  miles = float(input(question))\n",
        "  kil = miles * KIL_CONV\n",
        "  print(\"miles in kilometers is \", kil)\n",
        "\n",
        ""
      ],
      "metadata": {
        "id": "XXwXRKynjCMF"
      },
      "id": "XXwXRKynjCMF",
      "execution_count": 61,
      "outputs": []
    },
    {
      "cell_type": "code",
      "source": [
        "KIL_CONV = 1.60935\n",
        "\n",
        "\n",
        "def miles_to_kilometers():\n",
        "    \"\"\"\n",
        "    goal: create a program that converts miles to kilometers\n",
        "    1. call my function miles_to_kilometers\n",
        "    2. in function : miles_to_kilometers :\n",
        "    A. ask my user \"miles to convert\", save as miles\n",
        "    B. convert miles to float, save as miles\n",
        "    C. multiply miles by kil(1.60934), store this value\n",
        "    D. tell my user what the conversion rate is\n",
        "    \"\"\"\n",
        "    question = \"how many miles?\"\n",
        "    miles = float(input(question))\n",
        "    kil = miles * KIL_CONV\n",
        "    print(\"miles in kilometers is \", kil)\n",
        "\n",
        ""
      ],
      "metadata": {
        "id": "7c9204zQjEGt"
      },
      "id": "7c9204zQjEGt",
      "execution_count": 62,
      "outputs": []
    },
    {
      "cell_type": "markdown",
      "id": "c5353b09",
      "metadata": {
        "id": "c5353b09"
      },
      "source": [
        "\n",
        "## Part 2 — Style Demonstrations (do, explain, and annotate)\n",
        "\n",
        "For each item below:\n",
        "- Write the **clean** version following PEP 8.\n",
        "- Add a one-sentence **explanation**: what rule did you apply and why?\n"
      ]
    },
    {
      "cell_type": "markdown",
      "id": "1b2f975b",
      "metadata": {
        "id": "1b2f975b"
      },
      "source": [
        "\n",
        "### 2A. Naming: variables & functions\n",
        "Bad → Fix it. Then explain the rules you applied.\n"
      ]
    },
    {
      "cell_type": "code",
      "execution_count": 63,
      "id": "b5d35183",
      "metadata": {
        "id": "b5d35183"
      },
      "outputs": [],
      "source": [
        "\n",
        "# ❌ Bad\n",
        "X=10\n",
        "def DO(x):return x*X\n",
        "\n",
        "# ✅ Good (rewrite below)\n",
        "# Your improved version:\n",
        "def multiply_by_global(multiplier: int) -> int:\n",
        "    \"\"\"Return multiplier times the module-level constant SCALE.\"\"\"\n",
        "    SCALE = 10  # prefer UPPERCASE for constants at module level; here local for demo\n",
        "    result = multiplier * SCALE\n",
        "    return result\n",
        "\n",
        "# Explanation (Markdown in the next cell):\n"
      ]
    },
    {
      "cell_type": "code",
      "source": [
        "def multiply_by_global(multiplier: int) -> int:\n",
        "    \"\"\"Return multiplier times the module-level constant SCALE.\"\"\"\n",
        "    SCALE = 10  # prefer UPPERCASE for constants at module level; here local for demo\n",
        "    result = multiplier * SCALE\n",
        "    return result"
      ],
      "metadata": {
        "id": "PKhzyCF-TPOz"
      },
      "id": "PKhzyCF-TPOz",
      "execution_count": 64,
      "outputs": []
    },
    {
      "cell_type": "markdown",
      "id": "cb2a146a",
      "metadata": {
        "id": "cb2a146a"
      },
      "source": [
        "\n",
        "**Explain:** Which PEP 8 naming rules did you apply? Why is `SCALE` capitalized? Why is the function name lowercase with underscores?\n",
        "1. I switched the function name from DO to multipy_by_global in order to comply with the PEP 8 rule that function names should be written in lowercase with underscores.\n",
        "2. I switched the constant name from x to SCALE because x can be confused with a mathemati expression and constant names are supposed to be written in uppercase.\n",
        "3. I switched the variable names to be more descriptive so it's easier for the user to understand.\n",
        "4. I added spaces around the operators to comply with PEP 8 spacing rules."
      ]
    },
    {
      "cell_type": "markdown",
      "id": "ad75d9fb",
      "metadata": {
        "id": "ad75d9fb"
      },
      "source": [
        "\n",
        "### 2B. Indentation & Maximum Line Length\n",
        "Refactor the following to avoid long lines and to align arguments clearly.\n"
      ]
    },
    {
      "cell_type": "code",
      "execution_count": 65,
      "id": "a3d88833",
      "metadata": {
        "id": "a3d88833",
        "colab": {
          "base_uri": "https://localhost:8080/"
        },
        "outputId": "ef58807b-057a-4cba-ba4b-704b9c476480"
      },
      "outputs": [
        {
          "output_type": "stream",
          "name": "stdout",
          "text": [
            "28.166666666666668\n"
          ]
        }
      ],
      "source": [
        "\n",
        "# ❌ Bad: crammed call, hard to read\n",
        "def compute(a,b,c,d,e,f,g,h,i): return (a+b)*(c+d)-(e/f)+g-h+i\n",
        "val=compute(1,2,3,4,5,6,7,8,9)\n",
        "\n",
        "# ✅ Good: rewrite below with line breaks and sensible parameter names\n",
        "def compute_sum_diff_ratio(\n",
        "    alpha: int,\n",
        "    beta: int,\n",
        "    gamma: int,\n",
        "    delta: int,\n",
        "    epsilon: int,\n",
        "    zeta: int,\n",
        "    eta: int,\n",
        "    theta: int,\n",
        "    iota: int,\n",
        ") -> float:\n",
        "    \"\"\"Sample function to demonstrate readable formatting and line length.\"\"\"\n",
        "    return (alpha + beta) * (gamma + delta) - (epsilon / zeta) + eta - theta + iota\n",
        "\n",
        "val = compute_sum_diff_ratio(\n",
        "    alpha=1, beta=2, gamma=3, delta=4, epsilon=5, zeta=6, eta=7, theta=8, iota=9\n",
        ")\n",
        "\n",
        "print(val)\n"
      ]
    },
    {
      "cell_type": "code",
      "source": [
        "def compute_sum_diff_ratio(\n",
        "    alpha: int,\n",
        "    beta: int,\n",
        "    gamma: int,\n",
        "    delta: int,\n",
        "    epsilon: int,\n",
        "    zeta: int,\n",
        "    eta: int,\n",
        "    theta: int,\n",
        "    iota: int,\n",
        ") -> float:\n",
        "    \"\"\"Sample function to demonstrate readable formatting and line length.\"\"\"\n",
        "    return (alpha + beta) * (gamma + delta) - (epsilon / zeta) + eta - theta + iota\n",
        "\n",
        "val = compute_sum_diff_ratio(\n",
        "    alpha=1, beta=2, gamma=3, delta=4, epsilon=5, zeta=6, eta=7, theta=8, iota=9\n",
        ")\n",
        "\n",
        "print(val)"
      ],
      "metadata": {
        "id": "kOillXIMTKg5",
        "outputId": "cbfc4062-6262-465b-f2fb-32ddcc30ca86",
        "colab": {
          "base_uri": "https://localhost:8080/"
        }
      },
      "id": "kOillXIMTKg5",
      "execution_count": 66,
      "outputs": [
        {
          "output_type": "stream",
          "name": "stdout",
          "text": [
            "28.166666666666668\n"
          ]
        }
      ]
    },
    {
      "cell_type": "markdown",
      "id": "cedf9bca",
      "metadata": {
        "id": "cedf9bca"
      },
      "source": [
        "\n",
        "**Explain:** How did you keep lines ≤ 79–99 chars? Why are keyword arguments used? What indentation style did you use for parameters?\n",
        "I kept the lines <= 79-99 characters by breaking up the lines within paretheses. Keyword arguments are used to make it easier for the user to understand the parameters of the code. I used vertical indentation for the parameters."
      ]
    },
    {
      "cell_type": "markdown",
      "id": "d022bb43",
      "metadata": {
        "id": "d022bb43"
      },
      "source": [
        "\n",
        "### 2C. Whitespace in expressions & statements\n",
        "Fix spacing around operators, commas, and after `#` in comments.\n"
      ]
    },
    {
      "cell_type": "code",
      "execution_count": 67,
      "id": "02a9d532",
      "metadata": {
        "id": "02a9d532",
        "colab": {
          "base_uri": "https://localhost:8080/"
        },
        "outputId": "0c60ec72-d66d-47bf-ab24-c7afbd2e84cb"
      },
      "outputs": [
        {
          "output_type": "stream",
          "name": "stdout",
          "text": [
            "0,2,4,6,8,0,2,4,6,8,"
          ]
        }
      ],
      "source": [
        "\n",
        "# ❌ Bad\n",
        "x= 1+2\n",
        "my_list=[1 ,2,3 ,4]\n",
        "for i  in  range( 0,10 ):#bad\n",
        "    if(i%2==0):print(i,end=',')\n",
        "\n",
        "# ✅ Good (rewrite below)\n",
        "x = 1 + 2\n",
        "my_list = [1, 2, 3, 4]\n",
        "for i in range(0, 10):  # good: space after '#', single spaces around keywords/operators\n",
        "    if i % 2 == 0:\n",
        "        print(i, end=\",\")\n"
      ]
    },
    {
      "cell_type": "code",
      "source": [
        "x = 1 + 2\n",
        "my_list = [1, 2, 3, 4]\n",
        "for i in range(0, 10):  # good: space after '#', single spaces around keywords/operators\n",
        "    if i % 2 == 0:\n",
        "        print(i, end=\",\")"
      ],
      "metadata": {
        "id": "hXDLkro_S_3I",
        "outputId": "2978bc18-a8b6-47dd-9ffc-12193d158c19",
        "colab": {
          "base_uri": "https://localhost:8080/"
        }
      },
      "id": "hXDLkro_S_3I",
      "execution_count": 68,
      "outputs": [
        {
          "output_type": "stream",
          "name": "stdout",
          "text": [
            "0,2,4,6,8,"
          ]
        }
      ]
    },
    {
      "cell_type": "markdown",
      "id": "4a03e87f",
      "metadata": {
        "id": "4a03e87f"
      },
      "source": [
        "\n",
        "### 2D. Comments & Docstrings\n",
        "Add a **docstring** and **useful** comments (explain *why*, not the obvious *how*).\n",
        "\n",
        "NOTE your professor expects notation:\n",
        "\n",
        "1.   on each line of logic with #\n",
        "2.   each variable name\n",
        "3.   each function, class and method (we have not studied yet classes and methods) docstring \"\"\"\n",
        "4.   each program at the top with docstring \"\"\" which includes :\n",
        "5.   Your name\n",
        "6.   Purpose of program (we will add to this over time)\n",
        "7.   Date\n",
        "\n",
        "\n",
        "\n",
        "\n",
        "\n"
      ]
    },
    {
      "cell_type": "code",
      "execution_count": 69,
      "id": "726bdccb",
      "metadata": {
        "id": "726bdccb",
        "colab": {
          "base_uri": "https://localhost:8080/"
        },
        "outputId": "dd4a0db8-8e0d-4bd9-c942-8fd8ba73f2bc"
      },
      "outputs": [
        {
          "output_type": "stream",
          "name": "stdout",
          "text": [
            "3\n"
          ]
        }
      ],
      "source": [
        "\"\"\"\n",
        "Name: Miriam Stern\n",
        "Date: 2025-10-06\n",
        "Purpose: count the amount of even numbers in a list.\n",
        "\"\"\"\n",
        "def count_evens(nums):\n",
        "    \"\"\"Return the number of even integers in `nums`.\n",
        "\n",
        "    We check `n % 2 == 0` to classify even values.\n",
        "\n",
        "    Why: In order to count the amount of even numbers in a list this function has\n",
        "    a for loop which will iterate through each number in the list and check if\n",
        "    it's even by dividing the number by 2 and checking if the remainder is zero.\n",
        "    \"\"\"\n",
        "    # Iterate once over the list for O(n) time.\n",
        "    count = 0 # This holds the amount of even numbers, beginning with zero.\n",
        "    for n in nums: # Iterates over the list to check for even numbers.\n",
        "        if n % 2 == 0: # Even numbers have zero remainder when divided by 2.\n",
        "            count += 1 # adds 1 to the count for every even number.\n",
        "    return count # returns total number of even numbers in the list.\n",
        "\n",
        "# Test\n",
        "print(count_evens([1,2,3,4,5,6])) # the output should be 3\n",
        "\n"
      ]
    },
    {
      "cell_type": "markdown",
      "id": "f6533ef0",
      "metadata": {
        "id": "f6533ef0"
      },
      "source": [
        "\n",
        "**Explain:** What is the role of a docstring? How did you keep comments helpful (describing *why* vs restating the code)?\n",
        "The role of a docstrings is for users to understand the purpose of the code and how to use it. I tried to explain the purpose of each line of code instead of just restating what that code already says."
      ]
    },
    {
      "cell_type": "markdown",
      "id": "20de23d7",
      "metadata": {
        "id": "20de23d7"
      },
      "source": [
        "\n",
        "### 2E. Programming Recommendations (truthiness, `is None`)\n",
        "\n",
        "Here you can see the code written poorly and correctly, with PEP 8  recommendations.\n"
      ]
    },
    {
      "cell_type": "code",
      "execution_count": 70,
      "id": "e82cac63",
      "metadata": {
        "id": "e82cac63"
      },
      "outputs": [],
      "source": [
        "\n",
        "# ❌ Bad\n",
        "def pick_message(msg):\n",
        "    if msg == None or msg == \"\":\n",
        "        return \"empty\"\n",
        "    if len(msg) == 0:\n",
        "        return \"empty\"\n",
        "    return msg\n",
        "\n",
        "# ✅ Good\n",
        "def pick_message(msg: str | None) :\n",
        "    if msg is None or msg == \"\":\n",
        "        return \"empty\"\n",
        "    return msg\n"
      ]
    },
    {
      "cell_type": "markdown",
      "id": "8063a974",
      "metadata": {
        "id": "8063a974"
      },
      "source": [
        "# 2 E question\n",
        "** >>>>> [link text](https://)Explain:** Why `is None` preferred over `== None`? When is truthiness (`if not msg`) appropriate, and when is it ambiguous?\n",
        "Using is none is safer as opposed to == none because it will only coem up as true if it is exactly none while == none can sometimes return true when the value is not exactly none which leaves room for error. If not msg should be used if you just want to check if it's empty but it can be ambiguous if you are checking only for none because it can return true for values such as an empty string."
      ]
    },
    {
      "cell_type": "markdown",
      "id": "7ef944ee",
      "metadata": {
        "id": "7ef944ee"
      },
      "source": [
        "\n",
        "## Part 3 — loops + decisions\n",
        "\n",
        "**Demonstrated :** Clean up the code below to follow PEP 8 and improve readability. Keep the **same behavior**.\n",
        "\n",
        "Steps:\n",
        "1. Reformat for line length, naming, whitespace, and indentation.\n",
        "2. Extract helper functions with docstrings where it clarifies intent.\n",
        "3. Add 1–2 **assert-based tests** to show behavior is unchanged.\n",
        "\n",
        "Question : What is the difference between these two approaches, and how does it affect readability ?\n",
        "\n",
        "Space was added between operators and there is 4 space indentation to comply with PEP 8 rules.\n",
        "The helper functions break up the code so it's more understandable and allows you to reuse it.\n",
        "The assert based tests help catch errors.\n",
        "\n",
        "Space was added between operators and there is consistent 4 space indentation. It uses descriptive variable instead of one letter variables which makes it much clearer for the user and easier to reuse. It uses assert based tests to help catch errors quicker. It uses docsrting sto explain the purpose of the function to the user so it's easier to understand."
      ]
    },
    {
      "cell_type": "code",
      "execution_count": 71,
      "id": "0add1ac7",
      "metadata": {
        "id": "0add1ac7",
        "colab": {
          "base_uri": "https://localhost:8080/"
        },
        "outputId": "2658af83-5f8e-4ae0-9f23-6316823341ad"
      },
      "outputs": [
        {
          "output_type": "stream",
          "name": "stdout",
          "text": [
            "SUM: 195\n"
          ]
        }
      ],
      "source": [
        "\n",
        "# ❌ Original (intentionally messy)\n",
        "def F(LIM):\n",
        "  s=0; i=0\n",
        "  while(i<LIM):\n",
        "     if(i%3==0 and i%5==0): s+=i\n",
        "     elif(i%3==0): s+=i\n",
        "     elif(i%5==0): s+=i\n",
        "     i=i+1\n",
        "  print(\"SUM:\",s)\n",
        "\n",
        "F(30)\n"
      ]
    },
    {
      "cell_type": "code",
      "execution_count": 72,
      "id": "7659a485",
      "metadata": {
        "id": "7659a485",
        "colab": {
          "base_uri": "https://localhost:8080/"
        },
        "outputId": "dc9f98c4-b916-4600-d27c-7935e129a0e5"
      },
      "outputs": [
        {
          "output_type": "stream",
          "name": "stdout",
          "text": [
            "SUM: 195\n"
          ]
        }
      ],
      "source": [
        "\n",
        "# ✅ Your cleaned version (example solution shown)\n",
        "def is_multiple_of_3_or_5(n: int) -> bool:\n",
        "    \"\"\"Return True if n is a multiple of 3 or 5.\"\"\"\n",
        "    return (n % 3 == 0) or (n % 5 == 0)\n",
        "\n",
        "\n",
        "def sum_multiples(limit: int) -> int:\n",
        "    \"\"\"Return the sum of numbers in [0, limit) that are multiples of 3 or 5.\"\"\"\n",
        "    total = 0\n",
        "    for i in range(limit):\n",
        "        if is_multiple_of_3_or_5(i):\n",
        "            total += i\n",
        "    return total\n",
        "\n",
        "\n",
        "def main() -> None:\n",
        "    print(\"SUM:\", sum_multiples(30))\n",
        "\n",
        "\n",
        "# quick checks\n",
        "assert sum_multiples(10) == 23\n",
        "main()\n"
      ]
    },
    {
      "cell_type": "markdown",
      "source": [],
      "metadata": {
        "id": "FjwcmHU8NOVV"
      },
      "id": "FjwcmHU8NOVV"
    },
    {
      "cell_type": "markdown",
      "source": [
        "## Part 4 : A study : How blank lines must be used in your code\n",
        "Observe : 2 blank lines before def multiply and def main.\n",
        "\n",
        "1 blank line between calculating total and product inside main (separates blocks).\n",
        "\n",
        "1 blank line before the if __name__ == \"__main__\": guard.\n",
        "\n",
        "### Question : insert a code block from assignment PA 1 Cafe, and show how it should be reformatted (before and after formatting). Explain what differences you have made, if any"
      ],
      "metadata": {
        "id": "KQrmuCv-7wms"
      },
      "id": "KQrmuCv-7wms"
    },
    {
      "cell_type": "code",
      "source": [
        "# ❌ Bad: no spaces, everything crammed\n",
        "def add(x,y):\n",
        "    return x+y\n",
        "def multiply(x,y):\n",
        "    return x*y\n",
        "def main():\n",
        "    total=add(2,3)\n",
        "    product=multiply(2,3)\n",
        "    if total>product:\n",
        "        print(\"Sum is larger\")\n",
        "    else:\n",
        "        print(\"Product is larger\")\n",
        "main()\n"
      ],
      "metadata": {
        "id": "gUvYlTtV79Gp",
        "colab": {
          "base_uri": "https://localhost:8080/"
        },
        "outputId": "b05d871e-bc27-4690-96a9-21987348499f"
      },
      "id": "gUvYlTtV79Gp",
      "execution_count": 73,
      "outputs": [
        {
          "output_type": "stream",
          "name": "stdout",
          "text": [
            "Product is larger\n"
          ]
        }
      ]
    },
    {
      "cell_type": "code",
      "source": [
        "# ✅ Good: proper spacing\n",
        "def add(x: int, y: int) -> int:\n",
        "    \"\"\"Return the sum of x and y.\"\"\"\n",
        "    return x + y\n",
        "\n",
        "\n",
        "def multiply(x: int, y: int) -> int:\n",
        "    \"\"\"Return the product of x and y.\"\"\"\n",
        "    return x * y\n",
        "\n",
        "\n",
        "def main() -> None:\n",
        "    \"\"\"Compare sum vs product of two numbers.\"\"\"\n",
        "    total = add(2, 3)\n",
        "\n",
        "    # Separate logical blocks with one blank line\n",
        "    product = multiply(2, 3)\n",
        "\n",
        "    if total > product:\n",
        "        print(\"Sum is larger\")\n",
        "    else:\n",
        "        print(\"Product is larger\")\n",
        "\n",
        "\n",
        "# Separate main execution from definitions\n",
        "if __name__ == \"__main__\":\n",
        "    main()\n"
      ],
      "metadata": {
        "id": "_0MKdTlM8A4H",
        "colab": {
          "base_uri": "https://localhost:8080/"
        },
        "outputId": "a2e1d560-013a-46ba-9754-7ab6ea3716ab"
      },
      "id": "_0MKdTlM8A4H",
      "execution_count": 74,
      "outputs": [
        {
          "output_type": "stream",
          "name": "stdout",
          "text": [
            "Product is larger\n"
          ]
        }
      ]
    },
    {
      "cell_type": "code",
      "source": [
        "#ORIGINAL\n",
        "def line_total(quantity,unit_price): # calculates line total\n",
        "    return quantity * unit_price\n",
        "coffee_total = line_total(order_1, 2.25)\n",
        "muffin_total = line_total(order_2, 2.75) #calculates muffin total\n",
        "subtotal = float(order_1 * 2.25 + order_2 * 2.75) # calculates subtotal and converts to float\n",
        "tax = subtotal * .08875 # calculates tax\n",
        "tip = subtotal * (tip / 100) # calculates tip\n"
      ],
      "metadata": {
        "id": "DF9Ch3wlQLkz"
      },
      "id": "DF9Ch3wlQLkz",
      "execution_count": 75,
      "outputs": []
    },
    {
      "cell_type": "code",
      "source": [
        "def line_total(quantity, unit_price):\n",
        "    \"\"\"Calculates the total price based on users input.\"\"\"\n",
        "    return quantity * unit_price\n",
        "\n",
        "coffee_total = line_total(order_1, 2.25)\n",
        "muffin_total = line_total(order_2, 2.75)\n",
        "subtotal = float(coffee_total + muffin_total)\n",
        "tax = subtotal * 0.08875\n",
        "tip = subtotal * (tip_percent / 100)"
      ],
      "metadata": {
        "colab": {
          "base_uri": "https://localhost:8080/",
          "height": 176
        },
        "id": "O9-emGekPlNR",
        "outputId": "e9c7fca8-bc28-4d0b-8ea6-5f8a119d7412"
      },
      "id": "O9-emGekPlNR",
      "execution_count": 76,
      "outputs": [
        {
          "output_type": "error",
          "ename": "NameError",
          "evalue": "name 'tip_percent' is not defined",
          "traceback": [
            "\u001b[0;31m---------------------------------------------------------------------------\u001b[0m",
            "\u001b[0;31mNameError\u001b[0m                                 Traceback (most recent call last)",
            "\u001b[0;32m/tmp/ipython-input-1853703751.py\u001b[0m in \u001b[0;36m<cell line: 0>\u001b[0;34m()\u001b[0m\n\u001b[1;32m      7\u001b[0m \u001b[0msubtotal\u001b[0m \u001b[0;34m=\u001b[0m \u001b[0mfloat\u001b[0m\u001b[0;34m(\u001b[0m\u001b[0mcoffee_total\u001b[0m \u001b[0;34m+\u001b[0m \u001b[0mmuffin_total\u001b[0m\u001b[0;34m)\u001b[0m\u001b[0;34m\u001b[0m\u001b[0;34m\u001b[0m\u001b[0m\n\u001b[1;32m      8\u001b[0m \u001b[0mtax\u001b[0m \u001b[0;34m=\u001b[0m \u001b[0msubtotal\u001b[0m \u001b[0;34m*\u001b[0m \u001b[0;36m0.08875\u001b[0m\u001b[0;34m\u001b[0m\u001b[0;34m\u001b[0m\u001b[0m\n\u001b[0;32m----> 9\u001b[0;31m \u001b[0mtip\u001b[0m \u001b[0;34m=\u001b[0m \u001b[0msubtotal\u001b[0m \u001b[0;34m*\u001b[0m \u001b[0;34m(\u001b[0m\u001b[0mtip_percent\u001b[0m \u001b[0;34m/\u001b[0m \u001b[0;36m100\u001b[0m\u001b[0;34m)\u001b[0m\u001b[0;34m\u001b[0m\u001b[0;34m\u001b[0m\u001b[0m\n\u001b[0m",
            "\u001b[0;31mNameError\u001b[0m: name 'tip_percent' is not defined"
          ]
        }
      ]
    },
    {
      "cell_type": "markdown",
      "source": [
        "1. I added space after comma (quantity, unit_price)\n",
        "PEP 8 rules definitely made my code much easier for the user to understand.\n",
        "2. I added a blank line to separate logically.\n",
        "3. I renamed tip to tip_percent because there were 2 variables with the same name.\n",
        "4. The subtotal was calculated the wrong way so I foxed it.\n",
        "5. I added a docstring to explain the purppose of th efunction instead of comments which just restated what the code said.\n",
        "\n",
        "(This code still has errors because it is just one part of my campus cafe menu so some of the variables are not defined."
      ],
      "metadata": {
        "id": "KhgkntJFbIIS"
      },
      "id": "KhgkntJFbIIS"
    },
    {
      "cell_type": "markdown",
      "id": "f264ed62",
      "metadata": {
        "id": "f264ed62"
      },
      "source": [
        "\n",
        "## Submission Checklist\n",
        "\n",
        "- [ ] I followed PEP 8 for naming, whitespace, docstrings, and line length.\n",
        "- [ ] I wrote clear explanations where requested.\n",
        "- [ ] My code passes my `assert` tests without errors.\n",
        "- [ ] I ran all cells (`Kernel → Restart & Run All`) before submitting.\n"
      ]
    },
    {
      "cell_type": "markdown",
      "id": "d8cd9eeb",
      "metadata": {
        "id": "d8cd9eeb"
      },
      "source": [
        "\n",
        "## Grading Rubric (20 pts)\n",
        "\n",
        "| Criterion | Points |\n",
        "|---|---:|\n",
        "| Reflection quality (insightful, specific, complete) | 4 |\n",
        "| 2A–2E demonstrations (correct style + explanation) | 6 |\n",
        "| Fix‑It workshop: readability + correctness + tests | 5 |\n",
        "| Clean code task: function, style, and tests | 5 |\n",
        "\n",
        "**Style penalties** (up to −3 total): inconsistent naming, poor spacing, missing/weak docstrings, >99 char lines without good reason.\n"
      ]
    }
  ],
  "metadata": {
    "colab": {
      "provenance": []
    },
    "language_info": {
      "name": "python"
    },
    "kernelspec": {
      "name": "python3",
      "display_name": "Python 3"
    }
  },
  "nbformat": 4,
  "nbformat_minor": 5
}